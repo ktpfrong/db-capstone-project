{
 "cells": [
  {
   "cell_type": "code",
   "execution_count": 11,
   "id": "46a22971",
   "metadata": {},
   "outputs": [],
   "source": [
    "import mysql.connector as connector"
   ]
  },
  {
   "cell_type": "code",
   "execution_count": 12,
   "id": "1be02087",
   "metadata": {},
   "outputs": [],
   "source": [
    "connection = connector.connect(user = \"root\", password = \"password\", db = \"littlelemondb\") "
   ]
  },
  {
   "cell_type": "code",
   "execution_count": 13,
   "id": "6c2ad829",
   "metadata": {},
   "outputs": [],
   "source": [
    "cursor = connection.cursor()\n",
    "show_tables_query = \"SHOW tables\" \n",
    "cursor.execute(show_tables_query)"
   ]
  },
  {
   "cell_type": "code",
   "execution_count": 14,
   "id": "017196e1",
   "metadata": {},
   "outputs": [
    {
     "name": "stdout",
     "output_type": "stream",
     "text": [
      "('bookings',)\n",
      "('customers',)\n",
      "('delivery',)\n",
      "('menus',)\n",
      "('orders',)\n",
      "('ordersview',)\n",
      "('staff',)\n"
     ]
    }
   ],
   "source": [
    "result = cursor.fetchall()\n",
    "for tbl in result:\n",
    "    print(tbl)"
   ]
  },
  {
   "cell_type": "code",
   "execution_count": 20,
   "id": "79cc3511",
   "metadata": {},
   "outputs": [
    {
     "name": "stdout",
     "output_type": "stream",
     "text": [
      "('Tony Sneal', 78966, Decimal('360.30'))\n",
      "('Kantapong Frong', 22365, Decimal('500.20'))\n",
      "('John Dub', 123456, Decimal('700.00'))\n",
      "('Bob Harey', 45466, Decimal('450.00'))\n"
     ]
    }
   ],
   "source": [
    "cursor = connection.cursor()\n",
    "query = \"\"\" SELECT cus.CustomerName, cus.ContactNumber, o.TotalCost \n",
    "            FROM littlelemondb.Customers cus \n",
    "            INNER JOIN littlelemondb.Orders o ON cus.CustomerID = o.CustomerID\n",
    "            WHERE o.TotalCost > 60;\"\"\"\n",
    "cursor.execute(query)\n",
    "results = cursor.fetchall()\n",
    "for result in results:\n",
    "    print(result)"
   ]
  }
 ],
 "metadata": {
  "kernelspec": {
   "display_name": "Python 3 (ipykernel)",
   "language": "python",
   "name": "python3"
  },
  "language_info": {
   "codemirror_mode": {
    "name": "ipython",
    "version": 3
   },
   "file_extension": ".py",
   "mimetype": "text/x-python",
   "name": "python",
   "nbconvert_exporter": "python",
   "pygments_lexer": "ipython3",
   "version": "3.11.0"
  }
 },
 "nbformat": 4,
 "nbformat_minor": 5
}
